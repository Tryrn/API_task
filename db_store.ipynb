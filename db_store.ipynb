{
 "cells": [
  {
   "cell_type": "code",
   "execution_count": 28,
   "metadata": {},
   "outputs": [],
   "source": [
    "import sqlite3\n",
    "import json\n",
    "from datetime import datetime, timedelta"
   ]
  },
  {
   "cell_type": "code",
   "execution_count": 29,
   "metadata": {},
   "outputs": [],
   "source": [
    "filePath = 'data.json'\n",
    "dbName = 'bids.db'"
   ]
  },
  {
   "cell_type": "code",
   "execution_count": 30,
   "metadata": {},
   "outputs": [],
   "source": [
    "\n",
    "def get_json(filePath):\n",
    "    with open(filePath) as f:\n",
    "        jsonFile = json.load(f)\n",
    "\n",
    "    return jsonFile\n",
    "    \n",
    "\n",
    "jsonFile = get_json(filePath)\n"
   ]
  },
  {
   "cell_type": "code",
   "execution_count": 31,
   "metadata": {},
   "outputs": [],
   "source": [
    "#Creates and connects to database \n",
    "#Just connects if it allready exists\n",
    "#Also get the cursor for the connection\n",
    "\n",
    "def create_connectt_db(dbName):\n",
    "    conn = None\n",
    "    try:\n",
    "        conn = sqlite3.connect(dbName)\n",
    "    except sqlite3.Error as err:\n",
    "        print(err)\n",
    "    finally:\n",
    "        if conn:\n",
    "            return conn\n",
    "\n",
    "\n",
    "conn = create_connectt_db(dbName)\n",
    "cursor = conn.cursor()"
   ]
  },
  {
   "cell_type": "code",
   "execution_count": 32,
   "metadata": {},
   "outputs": [
    {
     "name": "stdout",
     "output_type": "stream",
     "text": [
      "Database tables dropped successfully.\n"
     ]
    }
   ],
   "source": [
    "# Deletes all tables from bids.db if they exist\n",
    "\n",
    "def drop_database(db_name):\n",
    "    # Connect to the SQLite database\n",
    "    conn = sqlite3.connect(db_name)\n",
    "    cursor = conn.cursor()\n",
    "\n",
    "    # List of tables to drop\n",
    "    tables = [\n",
    "        'series',\n",
    "        'positions',\n",
    "        'main'\n",
    "    ]\n",
    "\n",
    "    # Drop each table if it exists\n",
    "    for table in tables:\n",
    "        cursor.execute(f'DROP TABLE IF EXISTS {table}')\n",
    "\n",
    "    # Commit the changes and close the connection\n",
    "    conn.commit()\n",
    "    conn.close()\n",
    "    print('Database tables dropped successfully.')\n",
    "\n",
    "# Example usage\n",
    "drop_database(dbName)"
   ]
  },
  {
   "cell_type": "code",
   "execution_count": 33,
   "metadata": {},
   "outputs": [
    {
     "data": {
      "text/plain": [
       "<sqlite3.Cursor at 0x192dd6ae6c0>"
      ]
     },
     "execution_count": 33,
     "metadata": {},
     "output_type": "execute_result"
    }
   ],
   "source": [
    "#Create the tables\n",
    "\n",
    "# Create main table\n",
    "cursor.execute('''\n",
    "CREATE TABLE IF NOT EXISTS main (\n",
    "    externalId TEXT PRIMARY KEY,\n",
    "    day TEXT,\n",
    "    dateOfLastChange TEXT,\n",
    "    market TEXT,\n",
    "    status TEXT,\n",
    "    country TEXT,\n",
    "    updateTime TEXT,\n",
    "    fromStatus TEXT,\n",
    "    toStatus TEXT\n",
    ")\n",
    "''')\n",
    "\n",
    "# Create series table\n",
    "cursor.execute('''\n",
    "CREATE TABLE IF NOT EXISTS series (\n",
    "    seriesExternalId TEXT PRIMARY KEY,\n",
    "    externalId TEXT,\n",
    "    customerId TEXT,\n",
    "    status TEXT,\n",
    "    direction TEXT,\n",
    "    currency TEXT,\n",
    "    priceArea TEXT,\n",
    "    assetId TEXT,\n",
    "    price REAL,\n",
    "    startInterval TEXT,\n",
    "    endInterval TEXT,\n",
    "    resolution TEXT,\n",
    "    FOREIGN KEY (externalId) REFERENCES main (externalId)\n",
    ")\n",
    "''')\n",
    "\n",
    "# Create positions table\n",
    "cursor.execute('''\n",
    "CREATE TABLE IF NOT EXISTS positions (\n",
    "    id INTEGER PRIMARY KEY AUTOINCREMENT,\n",
    "    seriesExternalId TEXT,\n",
    "    quantity INTEGER,\n",
    "    dateTime TIMESTAMP,\n",
    "    FOREIGN KEY (seriesExternalId) REFERENCES series (seriesExternalId)\n",
    ")\n",
    "''')\n",
    "\n"
   ]
  },
  {
   "cell_type": "code",
   "execution_count": 34,
   "metadata": {},
   "outputs": [],
   "source": [
    "# Helper functions from turning a string to datetime format, and the other way around\n",
    "\n",
    "def str_to_date_time(dateTimeString):\n",
    "    return datetime.strptime(dateTimeString, \"%Y-%m-%dT%H:%M:%S\")\n",
    "\n",
    "def date_time_to_str(dateTime):\n",
    "    return dateTime.strftime(\"%Y-%m-%dT%H:%M:%S\")"
   ]
  },
  {
   "cell_type": "code",
   "execution_count": 35,
   "metadata": {},
   "outputs": [
    {
     "name": "stderr",
     "output_type": "stream",
     "text": [
      "C:\\Users\\Trym\\AppData\\Local\\Temp\\ipykernel_35940\\2840564174.py:44: DeprecationWarning: The default datetime adapter is deprecated as of Python 3.12; see the sqlite3 documentation for suggested replacement recipes\n",
      "  cursor.execute('''\n"
     ]
    }
   ],
   "source": [
    "\n",
    "# Insert data into main table\n",
    "cursor.execute('''\n",
    "INSERT OR IGNORE INTO main (externalId, day, dateOfLastChange, market, status, country, updateTime, fromStatus, toStatus)\n",
    "VALUES (?, ?, ?, ?, ?, ?, ?, ?, ?)\n",
    "''', (\n",
    "    jsonFile['externalId'],\n",
    "    jsonFile['day'],\n",
    "    jsonFile['dateOfLastChange'],\n",
    "    jsonFile['market'],\n",
    "    jsonFile['status'],\n",
    "    jsonFile['country'],\n",
    "    jsonFile['updateHistory'][0]['updateTime'],\n",
    "    jsonFile['updateHistory'][0]['fromStatus'],\n",
    "    jsonFile['updateHistory'][0]['toStatus']\n",
    "))\n",
    "\n",
    "# Insert data into series and positions tables\n",
    "for series in jsonFile['series']:\n",
    "    cursor.execute('''\n",
    "    INSERT INTO series (externalId, seriesExternalId, customerId, status, direction, currency, priceArea, assetId, price, startInterval, endInterval, resolution)\n",
    "    VALUES (?, ?, ?, ?, ?, ?, ?, ?, ?, ?, ?, ?)\n",
    "    ''', (\n",
    "        jsonFile['externalId'],\n",
    "        series['externalId'],\n",
    "        series['customerId'],\n",
    "        series['status'],\n",
    "        series['direction'],\n",
    "        series['currency'],\n",
    "        series['priceArea'],\n",
    "        series['assetId'],\n",
    "        series['price'],\n",
    "        series['startInterval'],\n",
    "        series['endInterval'],\n",
    "        series['resolution']\n",
    "    ))\n",
    "    \n",
    "    # Get the start time as a string\n",
    "    dateTime_start_str = series['startInterval']\n",
    "\n",
    "    # Convert the start time string to datetime\n",
    "    dateTimeCurrent = str_to_date_time(dateTime_start_str)\n",
    "    \n",
    "    for position in series['positions']:\n",
    "        cursor.execute('''\n",
    "        INSERT INTO positions (seriesExternalId, quantity, dateTime)\n",
    "        VALUES (?, ?, ?)\n",
    "        ''', (\n",
    "            series['externalId'],\n",
    "            position['quantity'],\n",
    "            dateTimeCurrent\n",
    "        ))\n",
    "        dateTimeCurrent += timedelta(hours=1)\n",
    "        \n",
    "\n"
   ]
  },
  {
   "cell_type": "code",
   "execution_count": 36,
   "metadata": {},
   "outputs": [],
   "source": [
    "# Commit changes and close the connection\n",
    "conn.commit()\n",
    "conn.close()"
   ]
  }
 ],
 "metadata": {
  "kernelspec": {
   "display_name": "Python 3",
   "language": "python",
   "name": "python3"
  },
  "language_info": {
   "codemirror_mode": {
    "name": "ipython",
    "version": 3
   },
   "file_extension": ".py",
   "mimetype": "text/x-python",
   "name": "python",
   "nbconvert_exporter": "python",
   "pygments_lexer": "ipython3",
   "version": "3.12.4"
  }
 },
 "nbformat": 4,
 "nbformat_minor": 2
}
